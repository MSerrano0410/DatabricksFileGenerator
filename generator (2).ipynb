{
 "cells": [
  {
   "cell_type": "code",
   "execution_count": 0,
   "metadata": {
    "application/vnd.databricks.v1+cell": {
     "cellMetadata": {
      "byteLimit": 2048000,
      "rowLimit": 10000
     },
     "inputWidgets": {},
     "nuid": "be48e2c0-d9d4-431f-b03d-15dd388f1ec7",
     "showTitle": false,
     "tableResultSettingsMap": {},
     "title": ""
    }
   },
   "outputs": [],
   "source": [
    "pip install pandas faker"
   ]
  },
  {
   "cell_type": "markdown",
   "metadata": {
    "application/vnd.databricks.v1+cell": {
     "cellMetadata": {
      "byteLimit": 2048000,
      "rowLimit": 10000
     },
     "inputWidgets": {},
     "nuid": "bb3f405e-29ac-452f-b9bb-1f068271b0b2",
     "showTitle": false,
     "tableResultSettingsMap": {},
     "title": ""
    }
   },
   "source": [
    "Add comments/deliverables here, Michelle! :)[](url)"
   ]
  },
  {
   "cell_type": "code",
   "execution_count": 0,
   "metadata": {
    "application/vnd.databricks.v1+cell": {
     "cellMetadata": {
      "byteLimit": 2048000,
      "rowLimit": 10000
     },
     "inputWidgets": {},
     "nuid": "2532e65c-d063-4c1d-a0d5-62d92fc449e8",
     "showTitle": false,
     "tableResultSettingsMap": {},
     "title": ""
    }
   },
   "outputs": [],
   "source": [
    "# ensure that catalog to house the volume exists first\n",
    "spark.sql(\"\"\"\n",
    "CREATE CATALOG IF NOT EXISTS labuser11156715_1755179084\n",
    "\"\"\")\n",
    "# Create volume for 41766 (legacy volume)\n",
    "spark.sql(\"\"\"\n",
    "DROP VOLUME IF EXISTS labuser11156715_1755179084.default.`I41766-F040`\n",
    "\"\"\")\n",
    "spark.sql(\"\"\"\n",
    "CREATE VOLUME labuser11156715_1755179084.default.`I41766-F040`\n",
    "\"\"\")\n",
    "\n",
    "# Create volume for 41767 (modern volume)\n",
    "spark.sql(\"\"\"\n",
    "DROP VOLUME IF EXISTS labuser11156715_1755179084.default.`I41767-F040`\n",
    "\"\"\")\n",
    "spark.sql(\"\"\"\n",
    "CREATE VOLUME labuser11156715_1755179084.default.`I41767-F040`\n",
    "\"\"\")\n",
    "\n",
    "#Create volume for f099 (output volume?)\n",
    "spark.sql(\"\"\"\n",
    "DROP VOLUME IF EXISTS labuser11156715_1755179084.default.`I41767-F099`\n",
    "\"\"\")\n",
    "spark.sql(\"\"\"\n",
    "CREATE VOLUME labuser11156715_1755179084.default.`I41767-F099`\n",
    "\"\"\")"
   ]
  },
  {
   "cell_type": "code",
   "execution_count": 0,
   "metadata": {
    "application/vnd.databricks.v1+cell": {
     "cellMetadata": {
      "byteLimit": 2048000,
      "rowLimit": 10000
     },
     "inputWidgets": {},
     "nuid": "2001eeff-df2c-429e-a24b-089522a22449",
     "showTitle": false,
     "tableResultSettingsMap": {},
     "title": ""
    }
   },
   "outputs": [],
   "source": [
    "from datetime import datetime\n",
    "\n",
    "YYYY = datetime.now().year\n",
    "CC = \"US\"\n",
    "ss_values = [f\"A{chr(ord('A') + i)}\" for i in range(26)]\n",
    "\n",
    "volume_path = \"/Volumes/labuser11156715_1755179084/default/I41767-F099\"\n",
    "\n",
    "for SS in ss_values:\n",
    "    filename = f\"I41767-F099.{SS}.L{YYYY}{CC}.csv\"\n",
    "    file_path = f\"{volume_path}/{filename}\"\n",
    "    df.to_csv(file_path, index=False)"
   ]
  },
  {
   "cell_type": "code",
   "execution_count": 0,
   "metadata": {
    "application/vnd.databricks.v1+cell": {
     "cellMetadata": {
      "byteLimit": 2048000,
      "rowLimit": 10000
     },
     "inputWidgets": {},
     "nuid": "a9bab0f8-047c-461d-a007-2503d9ad4cf2",
     "showTitle": false,
     "tableResultSettingsMap": {},
     "title": ""
    }
   },
   "outputs": [],
   "source": [
    "# Regenerate the DataFrame as in cell 4\n",
    "import pandas as pd\n",
    "import numpy as np\n",
    "from faker import Faker\n",
    "fake = Faker()\n",
    "\n",
    "N = 20\n",
    "data = []\n",
    "for i in range(N):\n",
    "    row = {\n",
    "        \"separate_cd\": np.random.choice(['A', 'B', 'C']),\n",
    "        \"valid_ind\": np.random.choice([1, 0]),\n",
    "        \"primary_tin\": fake.random_number(digits=9),\n",
    "        \"student_ind\": np.random.choice([1, 0]),\n",
    "        \"dist_code_1099k\": fake.bothify(text='??###'),\n",
    "        \"merch_category_cd\": np.random.choice(['ELEC', 'FOOD', 'CAR']),\n",
    "        \"student_ind_grad\": np.random.choice([1, 0]),\n",
    "        \"reserve2\": '',\n",
    "        \"ind1099k\": np.random.choice([1, 0]),\n",
    "        \"document_code\": fake.bothify(text='###'),\n",
    "        \"payer_tin\": fake.random_number(digits=9),\n",
    "        \"payer_tin_type\": np.random.choice(['E', 'S', 'C']),\n",
    "        \"amended_indicator\": np.random.choice([1, 0]),\n",
    "        \"tax_year\": fake.year(),\n",
    "    }\n",
    "    for idx in range(1, 14):\n",
    "        row[f\"payment_cd_{idx}\"] = f\"CD{idx:02}\"\n",
    "        row[f\"payment_sign_{idx}\"] = np.random.choice(['+', '-'])\n",
    "        row[f\"payment_amt_{idx}\"] = np.round(np.random.uniform(10, 1000), 2)\n",
    "    row.update({\n",
    "        \"payer_acct_num\": fake.bothify(text='######'),\n",
    "        \"perfection_history\": '',\n",
    "        \"change_tin_ind\": np.random.choice([1, 0]),\n",
    "        \"chng_nm_ctrl_ind\": np.random.choice([1, 0]),\n",
    "        \"payee_name_line_1\": fake.name(),\n",
    "        \"payee_name_line_2\": fake.name(),\n",
    "        \"payee_address\": fake.street_address(),\n",
    "        \"payee_city_state\": f\"{fake.city()}, {fake.state_abbr()}\",\n",
    "        \"payee_zip_cd\": fake.zipcode(),\n",
    "        \"payer_name_line_1\": fake.company(),\n",
    "        \"payer_name_line_2\": fake.company_suffix(),\n",
    "        \"payer_address_line\": fake.street_address(),\n",
    "        \"payer_city_state_zip\": f\"{fake.city()}, {fake.state_abbr()} {fake.zipcode()}\",\n",
    "        \"direct_sales\": np.random.choice([1, 0]),\n",
    "        \"gambling_cd\": np.random.choice([0, 1]),\n",
    "        \"item_desc\": fake.word(),\n",
    "        \"bond_cusip\": fake.bothify(text='########'),\n",
    "        \"job_id\": f\"JOB{fake.random_int(1000,9999)}\",\n",
    "        \"source_file_nm\": f\"file{i}.dat\",\n",
    "    })\n",
    "    data.append(row)\n",
    "\n",
    "df = pd.DataFrame(data)\n",
    "\n",
    "from datetime import datetime\n",
    "YYYY = datetime.now().year\n",
    "CC = \"US\"\n",
    "ss_values = [f\"A{chr(ord('A') + i)}\" for i in range(26)]\n",
    "volume_path1 = \"/Volumes/labuser11156715_1755179084/default/i41766-f040\"\n",
    "volume_path2 = \"/Volumes/labuser11156715_1755179084/default/i41767-f040\"\n",
    "volume_path3 = \"/Volumes/labuser11156715_1755179084/default/i41767-f099\"\n",
    "\n",
    "for volume_path, prefix in [\n",
    "    (volume_path1, \"I41766-F040\"),\n",
    "    (volume_path2, \"I41767-F040\"),\n",
    "    (volume_path3, \"I41767-F099\")\n",
    "]:\n",
    "    \n",
    "    for SS in ss_values:\n",
    "        filename = f\"{prefix}.{SS}.L{YYYY}{CC}.csv\"\n",
    "        file_path = f\"{volume_path}/{filename}\"\n",
    "        df.to_csv(file_path, index=False)"
   ]
  },
  {
   "cell_type": "code",
   "execution_count": 0,
   "metadata": {
    "application/vnd.databricks.v1+cell": {
     "cellMetadata": {
      "byteLimit": 2048000,
      "rowLimit": 10000
     },
     "inputWidgets": {},
     "nuid": "08cc2119-0588-444f-bcf4-b4d9a7e2d093",
     "showTitle": false,
     "tableResultSettingsMap": {},
     "title": ""
    }
   },
   "outputs": [],
   "source": [
    "df_spark = spark.read.csv(\"/Volumes/labuser11156715_1755179084/default/i41767-f040/I41767-F040.AB.L2025US.csv\", header=True, inferSchema=True)\n",
    "display(df_spark)"
   ]
  }
 ],
 "metadata": {
  "application/vnd.databricks.v1+notebook": {
   "computePreferences": null,
   "dashboards": [],
   "environmentMetadata": {
    "base_environment": "",
    "environment_version": "2"
   },
   "inputWidgetPreferences": null,
   "language": "python",
   "notebookMetadata": {
    "pythonIndentUnit": 4
   },
   "notebookName": "generator (2)",
   "widgets": {}
  },
  "language_info": {
   "name": "python"
  }
 },
 "nbformat": 4,
 "nbformat_minor": 0
}
